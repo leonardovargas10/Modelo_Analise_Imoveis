{
 "cells": [
  {
   "cell_type": "markdown",
   "metadata": {},
   "source": [
    "<h1 style='color: blue; font-size: 34px; font-weight: bold;'> Projeto Proposto \n",
    "</h1>\n",
    "<p style='font-size: 18px; line-height: 2; margin: 0px 0px; text-align: justify; text-indent: 0px;'>    \n",
    "<i> Este projeto baseia-se na criação de uma Análise de Imóveis da cidade de Melbourne. </i>       \n",
    "</p>  "
   ]
  },
  {
   "cell_type": "markdown",
   "metadata": {},
   "source": [
    "# <font color='red' style='font-size: 40px;'> Problemática </font>\n",
    "<hr style='border: 2px solid red;'>\n",
    "\n",
    "<p style='font-size: 18px; line-height: 2; margin: 0px 0px; text-align: justify; text-indent: 0px;'>    \n",
    "<i>  Melbourne foi considerada pela revista The Economist por 7 vezes como a melhor cidade do mundo para se viver.Ela fica no estado de Victoria, na Austrália.\n",
    "\n",
    "\n",
    "</i> \n",
    "</p>  \n",
    "\n",
    "<p style='font-size: 18px; line-height: 2; margin: 0px 0px; text-align: justify; text-indent: 0px;'>    \n",
    "<i> No ano de  2018, os imóveis passaram por uma \"bolha imobiliária\" e o intuito deste projeto é realizar uma Análise de Dados a fim de descobrir causas, procurar tendências e, ao final, criar um Modelo Matemático para entender se previsões teriam auxiliado o cenário na época.\n",
    "</i> \n",
    "</p>  \n",
    "\n",
    "\n",
    "\n"
   ]
  },
  {
   "cell_type": "markdown",
   "metadata": {},
   "source": [
    "# <font color='red' style='font-size: 40px;'> Bibliotecas Utilizadas </font>\n",
    "<hr style='border: 2px solid red;'>"
   ]
  },
  {
   "cell_type": "code",
   "execution_count": 1,
   "metadata": {},
   "outputs": [],
   "source": [
    "## Bibliotecas De Manipulação de Dados e Visualização\n",
    "import pandas as pd \n",
    "import matplotlib.pyplot as plt\n",
    "import seaborn as sns \n",
    "from IPython.display import display, Image\n",
    "\n",
    "## Bibliotecas de Modelagem Matemática e Estatística\n",
    "import numpy as np\n",
    "import scipy as sp \n",
    "import scipy.stats as stats\n",
    "import statsmodels\n",
    "import statsmodels.api as sm\n",
    "import statsmodels.formula.api as smf\n",
    "from statsmodels.stats.weightstats import ztest\n",
    "from statsmodels.stats.diagnostic import lilliefors\n",
    "\n",
    "\n",
    "# Bibliotecas de Manipulação de Tempo\n",
    "import time\n",
    "import datetime\n",
    "\n",
    "# Bibiliotecas de Seleção de Modelos\n",
    "from sklearn.model_selection import train_test_split, KFold, cross_val_score, cross_validate\n",
    "\n",
    "# Bibliotecas de Pré-Processamento e Pipeline\n",
    "from sklearn.preprocessing import StandardScaler, MinMaxScaler, LabelEncoder, OneHotEncoder\n",
    "from sklearn.pipeline import Pipeline, make_pipeline\n",
    "from sklearn.compose import ColumnTransformer\n",
    "from sklearn.impute import SimpleImputer, KNNImputer\n",
    "\n",
    "# Bibliotecas de Modelos de Machine Learning\n",
    "from sklearn.decomposition import PCA\n",
    "\n",
    "# Bibliotecas de Métricas de Machine Learning\n",
    "\n",
    "\n",
    "# Parâmetros de Otimização\n",
    "import warnings\n",
    "%matplotlib inline\n",
    "sns.set()\n",
    "plt.rcParams['font.family'] = 'Arial'\n",
    "plt.rcParams['font.size'] = '14'\n",
    "plt.rcParams['figure.figsize'] = [10, 5]\n",
    "pd.set_option('display.max_rows', 100)\n",
    "pd.set_option('display.max_columns', 100)\n",
    "pd.set_option('display.float_format', lambda x: '%.2f' % x) # Tira os números do formato de Notação Científica\n",
    "np.set_printoptions(suppress=True) # Tira os números do formato de Notação Científica em Numpy Arrays\n",
    "warnings.filterwarnings('ignore')\n",
    "warnings.simplefilter(action='ignore', category=FutureWarning) # Retira Future Warnings"
   ]
  },
  {
   "cell_type": "markdown",
   "metadata": {},
   "source": [
    "# <font color='red' style='font-size: 40px;'> Funções </font>\n",
    "<hr style='border: 2px solid red;'>"
   ]
  },
  {
   "cell_type": "markdown",
   "metadata": {},
   "source": [
    "## Funções de Visualização"
   ]
  },
  {
   "cell_type": "markdown",
   "metadata": {},
   "source": [
    "* Plota Barras "
   ]
  },
  {
   "cell_type": "code",
   "execution_count": 2,
   "metadata": {},
   "outputs": [],
   "source": [
    "def plota_barras(lista_variaveis, hue, df, linhas, colunas):\n",
    "    if hue != False:\n",
    "        if (linhas == 1) and (colunas == 1):\n",
    "            k = 0\n",
    "            ax = sns.countplot(x = lista_variaveis[k], data = df, orient = 'h', hue = hue, palette={'Yes':'#1FB3E5', 'No':'#696969'})\n",
    "            ax.set_xlabel(f'{lista_variaveis[k]}', fontsize = 14)\n",
    "            ax.set_ylabel(f'Quantidade', fontsize = 14)\n",
    "            total = []\n",
    "            for bar in ax.patches:\n",
    "                height = bar.get_height()\n",
    "                total.append(height)\n",
    "            total = sum(total)\n",
    "            \n",
    "            sizes = []\n",
    "            for bar in ax.patches:\n",
    "                height = bar.get_height()\n",
    "                sizes.append(height)\n",
    "                ax.text(bar.get_x() + bar.get_width()/1.6,\n",
    "                        height+200,\n",
    "                        f'{round((height/total)*100, 2)}%',\n",
    "                        ha = 'center',\n",
    "                        fontsize = 12\n",
    "                )\n",
    "            ax.set_ylim(0, max(sizes)*1.1)\n",
    "            plt.show()\n",
    "        elif linhas == 1:\n",
    "            fig, axis = plt.subplots(linhas, colunas, figsize=(20, 10), sharey=True)\n",
    "            k = 0\n",
    "            for i in np.arange(linhas):\n",
    "                for j in np.arange(colunas):\n",
    "                    ax = sns.countplot(x = lista_variaveis[k], data = df, orient = 'h', ax = axis[j], hue = hue, palette={'Yes':'#1FB3E5', 'No':'#696969'})\n",
    "                    ax.set_xlabel(f'{lista_variaveis[k]}', fontsize = 14)\n",
    "                    ax.set_ylabel(f'Quantidade', fontsize = 14)\n",
    "                    total = []\n",
    "                    for bar in ax.patches:\n",
    "                        height = bar.get_height()\n",
    "                        total.append(height)\n",
    "                    total = sum(total)\n",
    "                    \n",
    "                    sizes = []\n",
    "                    for bar in ax.patches:\n",
    "                        height = bar.get_height()\n",
    "                        sizes.append(height)\n",
    "                        ax.text(bar.get_x() + bar.get_width()/1.6,\n",
    "                                height+200,\n",
    "                                f'{round((height/total)*100, 2)}%',\n",
    "                                ha = 'center',\n",
    "                                fontsize = 12\n",
    "                        )\n",
    "                    ax.set_ylim(0, max(sizes)*1.1)\n",
    "                    k = k + 1\n",
    "        elif colunas == 1:\n",
    "            fig, axis = plt.subplots(linhas, colunas, figsize=(20, 10), sharey=True)\n",
    "            k = 0\n",
    "            for i in np.arange(linhas):\n",
    "                for j in np.arange(colunas):\n",
    "                    ax = sns.countplot(x = lista_variaveis[k], data = df, orient = 'h', ax = axis[i], hue = hue, palette={'Yes':'#1FB3E5', 'No':'#696969'})\n",
    "                    ax.set_xlabel(f'{lista_variaveis[k]}', fontsize = 14)\n",
    "                    ax.set_ylabel(f'Quantidade', fontsize = 14)\n",
    "                    total = []\n",
    "                    for bar in ax.patches:\n",
    "                        height = bar.get_height()\n",
    "                        total.append(height)\n",
    "                    total = sum(total)\n",
    "                    \n",
    "                    sizes = []\n",
    "                    for bar in ax.patches:\n",
    "                        height = bar.get_height()\n",
    "                        sizes.append(height)\n",
    "                        ax.text(bar.get_x() + bar.get_width()/1.6,\n",
    "                                height+200,\n",
    "                                f'{round((height/total)*100, 2)}%',\n",
    "                                ha = 'center',\n",
    "                                fontsize = 12\n",
    "                        )\n",
    "                    ax.set_ylim(0, max(sizes)*1.1)\n",
    "                    k = k + 1\n",
    "        else: \n",
    "            fig, axis = plt.subplots(linhas, colunas, figsize=(20, 10), sharey=True)\n",
    "            k = 0\n",
    "            for i in np.arange(linhas):\n",
    "                for j in np.arange(colunas):\n",
    "                    ax = sns.countplot(x = lista_variaveis[k], data = df, orient = 'h', ax = axis[i, j], hue = hue, palette={'Yes':'#1FB3E5', 'No':'#696969'})\n",
    "                    ax.set_xlabel(f'{lista_variaveis[k]}', fontsize = 14)\n",
    "                    ax.set_ylabel(f'Quantidade', fontsize = 14)\n",
    "                    total = []\n",
    "                    for bar in ax.patches:\n",
    "                        height = bar.get_height()\n",
    "                        total.append(height)\n",
    "                    total = sum(total)\n",
    "                    \n",
    "                    sizes = []\n",
    "                    for bar in ax.patches:\n",
    "                        height = bar.get_height()\n",
    "                        sizes.append(height)\n",
    "                        ax.text(bar.get_x() + bar.get_width()/1.6,\n",
    "                                height+200,\n",
    "                                f'{round((height/total)*100, 2)}%',\n",
    "                                ha = 'center',\n",
    "                                fontsize = 12\n",
    "                        )\n",
    "                    ax.set_ylim(0, max(sizes)*1.1)\n",
    "                    k = k + 1\n",
    "    else:\n",
    "        if (linhas == 1) and (colunas == 1):\n",
    "            k = 0\n",
    "            ax = sns.countplot(x = lista_variaveis[k], data = df, orient = 'h', color='#1FB3E5')\n",
    "            ax.set_xlabel(f'{lista_variaveis[k]}', fontsize = 14)\n",
    "            ax.set_ylabel(f'Quantidade', fontsize = 14)\n",
    "            total = []\n",
    "            for bar in ax.patches:\n",
    "                height = bar.get_height()\n",
    "                total.append(height)\n",
    "            total = sum(total)\n",
    "            \n",
    "            sizes = []\n",
    "            for bar in ax.patches:\n",
    "                height = bar.get_height()\n",
    "                sizes.append(height)\n",
    "                ax.text(bar.get_x() + bar.get_width()/1.6,\n",
    "                        height+200,\n",
    "                        f'{round((height/total)*100, 2)}%',\n",
    "                        ha = 'center',\n",
    "                        fontsize = 12\n",
    "                )\n",
    "            ax.set_ylim(0, max(sizes)*1.1)\n",
    "            plt.show()\n",
    "\n",
    "        elif linhas == 1:\n",
    "            fig, axis = plt.subplots(linhas, colunas, figsize=(20, 10), sharey=True)\n",
    "            k = 0\n",
    "            for i in np.arange(linhas):\n",
    "                for j in np.arange(colunas):\n",
    "                    ax = sns.countplot(x = lista_variaveis[k], data = df, orient = 'h', ax = axis[j], color='#1FB3E5')\n",
    "                    ax.set_xlabel(f'{lista_variaveis[k]}', fontsize = 14)\n",
    "                    ax.set_ylabel(f'Quantidade', fontsize = 14)\n",
    "                    total = []\n",
    "                    for bar in ax.patches:\n",
    "                        height = bar.get_height()\n",
    "                        total.append(height)\n",
    "                    total = sum(total)\n",
    "                    \n",
    "                    sizes = []\n",
    "                    for bar in ax.patches:\n",
    "                        height = bar.get_height()\n",
    "                        sizes.append(height)\n",
    "                        ax.text(bar.get_x() + bar.get_width()/1.6,\n",
    "                                height+200,\n",
    "                                f'{round((height/total)*100, 2)}%',\n",
    "                                ha = 'center',\n",
    "                                fontsize = 12\n",
    "                        )\n",
    "                    ax.set_ylim(0, max(sizes)*1.1)\n",
    "                    k = k + 1\n",
    "        elif colunas == 1:\n",
    "            fig, axis = plt.subplots(linhas, colunas, figsize=(20, 10), sharey=True)\n",
    "            k = 0\n",
    "            for i in np.arange(linhas):\n",
    "                for j in np.arange(colunas):\n",
    "                    ax = sns.countplot(x = lista_variaveis[k], data = df, orient = 'h', ax = axis[i], color='#1FB3E5')\n",
    "                    ax.set_xlabel(f'{lista_variaveis[k]}', fontsize = 14)\n",
    "                    ax.set_ylabel(f'Quantidade', fontsize = 14)\n",
    "                    total = []\n",
    "                    for bar in ax.patches:\n",
    "                        height = bar.get_height()\n",
    "                        total.append(height)\n",
    "                    total = sum(total)\n",
    "                    \n",
    "                    sizes = []\n",
    "                    for bar in ax.patches:\n",
    "                        height = bar.get_height()\n",
    "                        sizes.append(height)\n",
    "                        ax.text(bar.get_x() + bar.get_width()/1.6,\n",
    "                                height+200,\n",
    "                                f'{round((height/total)*100, 2)}%',\n",
    "                                ha = 'center',\n",
    "                                fontsize = 12\n",
    "                        )\n",
    "                    ax.set_ylim(0, max(sizes)*1.1)\n",
    "                    k = k + 1\n",
    "        else:\n",
    "            fig, axis = plt.subplots(linhas, colunas, figsize=(20, 10), sharey=True)\n",
    "            k = 0\n",
    "            for i in np.arange(linhas):\n",
    "                for j in np.arange(colunas):\n",
    "                    ax = sns.countplot(x = lista_variaveis[k], data = df, orient = 'h', ax = axis[i, j], color='#1FB3E5')\n",
    "                    ax.set_xlabel(f'{lista_variaveis[k]}', fontsize = 14)\n",
    "                    ax.set_ylabel(f'Quantidade', fontsize = 14)\n",
    "                    total = []\n",
    "                    for bar in ax.patches:\n",
    "                        height = bar.get_height()\n",
    "                        total.append(height)\n",
    "                    total = sum(total)\n",
    "                    \n",
    "                    sizes = []\n",
    "                    for bar in ax.patches:\n",
    "                        height = bar.get_height()\n",
    "                        sizes.append(height)\n",
    "                        ax.text(bar.get_x() + bar.get_width()/1.6,\n",
    "                                height+200,\n",
    "                                f'{round((height/total)*100, 2)}%',\n",
    "                                ha = 'center',\n",
    "                                fontsize = 12\n",
    "                        )\n",
    "                    ax.set_ylim(0, max(sizes)*1.1)\n",
    "                    k = k + 1\n"
   ]
  },
  {
   "cell_type": "markdown",
   "metadata": {},
   "source": [
    "* Plota Histogramas "
   ]
  },
  {
   "cell_type": "code",
   "execution_count": 3,
   "metadata": {},
   "outputs": [],
   "source": [
    "def plota_histograma(variavel, hue, df, titulo):\n",
    "    if hue != False:\n",
    "        mediana1 = df.loc[(df[hue] == 'Yes') | (df[hue] == 1)][variavel].median()\n",
    "        media1 = round(df.loc[(df[hue] == 'Yes') | (df[hue] == 1)][variavel].mean(), 2)\n",
    "        mediana2 = df.loc[(df[hue] == 'Yes') | (df[hue] == 1)][variavel].median()\n",
    "        media2 = round(df.loc[(df[hue] == 'Yes') | (df[hue] == 1)][variavel].mean(), 2)\n",
    "        plt.figure(figsize = (14, 4))\n",
    "        sns.histplot(data = df, x = variavel, multiple=\"dodge\", shrink=.8, hue = hue, palette={'Yes':'#1FB3E5', 'No':'#696969', 1:'#1FB3E5', 0:'#696969'}, bins = 60)\n",
    "        plt.title(f'Distribuição {titulo}', fontsize = 16)\n",
    "        plt.xlabel('Intervalo de Valores', fontsize = 14)\n",
    "        plt.ylabel('Frequência', fontsize = 14)\n",
    "        plt.axvline(x = mediana1, ymax = 0.75 ,color = '#231F20', linestyle = '-', label = f'mediana Churn = {mediana1}')\n",
    "        plt.axvline(x = media1, ymax = 0.75,color = '#231F20', linestyle = '--', label = f'media Churn = {media1}')\n",
    "        plt.axvline(x = mediana2, ymax = 0.75 ,color = '#231F20', linestyle = '-', label = f'mediana No Churn = {mediana2}')\n",
    "        plt.axvline(x = media2, ymax = 0.75,color = '#231F20', linestyle = '--', label = f'media No Churn = {media2}')\n",
    "        plt.grid(False)\n",
    "        plt.box(False)\n",
    "        plt.legend(loc = 'best')\n",
    "        plt.tight_layout()\n",
    "        plt.show()\n",
    "    else:\n",
    "        mediana = df[variavel].median()\n",
    "        media = round(df[variavel].mean(), 2)\n",
    "        plt.figure(figsize = (14, 4))\n",
    "        sns.histplot(data = df, x = variavel, multiple=\"dodge\", shrink=.8, color = '#1FB3E5', bins = 60)\n",
    "        plt.title(f'Distribuição {titulo}', fontsize = 16)\n",
    "        plt.xlabel('Intervalo de Valores', fontsize = 14)\n",
    "        plt.ylabel('Frequência', fontsize = 14)\n",
    "        plt.axvline(x = mediana, ymax = 0.75 ,color = '#231F20', linestyle = '-', label = f'mediana = {mediana}')\n",
    "        plt.axvline(x = media, ymax = 0.75,color = '#231F20', linestyle = '--', label = f'media = {media}')\n",
    "        plt.grid(False)\n",
    "        plt.box(False)\n",
    "        plt.legend(loc = 'best')\n",
    "        plt.tight_layout()\n",
    "        plt.show()"
   ]
  },
  {
   "cell_type": "markdown",
   "metadata": {},
   "source": [
    "* Plota Boxplot"
   ]
  },
  {
   "cell_type": "code",
   "execution_count": 4,
   "metadata": {},
   "outputs": [],
   "source": [
    "def plota_boxplot(variavel, hue, df, titulo):\n",
    "    if hue != False:\n",
    "        plt.figure(figsize = (7, 4))\n",
    "        sns.boxplot(data = df, x = variavel, orient = 'h', y = hue, palette={'Yes':'#1FB3E5', 'No':'#696969'})\n",
    "        plt.title(f'Boxplot {titulo}', fontsize = 16)\n",
    "        plt.xlabel('Intervalo de Valores', fontsize = 14)\n",
    "        plt.grid(False)\n",
    "        plt.box(False)\n",
    "        plt.tight_layout()\n",
    "        plt.show()\n",
    "    else: \n",
    "        plt.figure(figsize = (7, 4))\n",
    "        sns.boxplot(data = df, x = variavel, orient = 'h', color = '#1FB3E5')\n",
    "        plt.title(f'Boxplot {titulo}', fontsize = 16)\n",
    "        plt.xlabel('Intervalo de Valores', fontsize = 14)\n",
    "        plt.grid(False)\n",
    "        plt.box(False)\n",
    "        plt.tight_layout()\n",
    "        plt.show()"
   ]
  },
  {
   "cell_type": "markdown",
   "metadata": {},
   "source": [
    "## Funções de Estatística"
   ]
  },
  {
   "cell_type": "markdown",
   "metadata": {},
   "source": [
    "* Analisa Correlação"
   ]
  },
  {
   "cell_type": "code",
   "execution_count": 5,
   "metadata": {},
   "outputs": [],
   "source": [
    "def analisa_correlacao(metodo, df):\n",
    "    plt.figure(figsize = (14, 7))\n",
    "    sns.heatmap(df.corr(method = metodo), vmin = -1, vmax = 1, cmap = 'magma', annot = True)\n",
    "    plt.title(f\"Analisando Correlação de {metodo}\")\n",
    "    plt.grid(False)\n",
    "    plt.box(False)\n",
    "    plt.tight_layout()\n",
    "    plt.show()"
   ]
  },
  {
   "cell_type": "markdown",
   "metadata": {},
   "source": [
    "* Analisa Normalidade "
   ]
  },
  {
   "cell_type": "code",
   "execution_count": 6,
   "metadata": {},
   "outputs": [],
   "source": [
    "def analisa_normalidade(amostra1, amostra2, variavel):\n",
    "\n",
    "    kolmogorov_amostra_1 = statsmodels.stats.diagnostic.lilliefors(amostra1[variavel], dist = 'norm')\n",
    "    kolmogorov_amostra_2 = statsmodels.stats.diagnostic.lilliefors(amostra2[variavel], dist = 'norm')\n",
    "\n",
    "    if kolmogorov_amostra_1[1] and kolmogorov_amostra_2[1] < 0.05:\n",
    "        print(f'Pelo Teste de Hipótese de Kolmogorov, a variável \"{variavel}\" não segue uma Distribuição Normal')\n",
    "    else:\n",
    "        print(f'Pelo Teste de Hipótese de Kolmogorov, a variável \"{variavel}\" não segue uma Distribuição Normal')\n",
    "\n",
    "    ax1 = plt.subplot(121)\n",
    "    stats.probplot(amostra1[variavel], dist = 'norm', plot = plt)\n",
    "    plt.grid(False)\n",
    "    plt.box(False)\n",
    "    plt.tight_layout()\n",
    "    ax1 = plt.subplot(122)\n",
    "    stats.probplot(amostra2[variavel], dist = 'norm', plot = plt)\n",
    "    plt.grid(False)\n",
    "    plt.box(False)\n",
    "    plt.tight_layout()\n",
    "\n",
    "    \n",
    "    plt.show()\n",
    "\n"
   ]
  },
  {
   "cell_type": "markdown",
   "metadata": {},
   "source": [
    "* Teste de Hipótese para Duas Amostras Independentes "
   ]
  },
  {
   "cell_type": "code",
   "execution_count": 7,
   "metadata": {},
   "outputs": [],
   "source": [
    "def teste_hipotese_duas_amostras_independentes(parametrico, amostra1, amostra2, variavel):\n",
    "\n",
    "    media_amostra_1 = amostra1[variavel].mean()\n",
    "    media_amostra_2 = amostra2[variavel].mean()\n",
    "    mediana_amostra_1 = amostra1[variavel].median()\n",
    "    mediana_amostra_2 = amostra2[variavel].median()\n",
    "\n",
    "    if parametrico == True: \n",
    "        print(f'Média Amostra 1: {media_amostra_1}')\n",
    "        print(f'Média Amostra 2: {media_amostra_2}')\n",
    "        stat, p_value = ztest(amostra1[variavel], amostra2[variavel]) \n",
    "        if p_value > 0.05:\n",
    "            print(f'Pelo Teste de Hipótese Z, não há diferença significativa entre as médias da Amostra 1 e Amostra 2')\n",
    "        else:\n",
    "            print(f'Pelo Teste de Hipótese Z, há diferença significativa entre as médias da Amostra 1 e Amostra 2')\n",
    "    else:\n",
    "        print(f'Mediana Amostra 1: {mediana_amostra_1}')\n",
    "        print(f'Mediana Amostra 2: {mediana_amostra_2}')\n",
    "        stat, p_value = stats.mannwhitneyu(amostra1[variavel], amostra2[variavel]) \n",
    "        if p_value > 0.05:\n",
    "            print(f'Pelo Teste de Hipótese de Mann Whitney, não há diferença significativa entre as medianas da Amostra 1 e Amostra 2')\n",
    "        else:\n",
    "            print(f'Pelo Teste de Hipótese de Mann Whitney, há diferença significativa entre as medianas da Amostra 1 e Amostra 2')"
   ]
  },
  {
   "cell_type": "markdown",
   "metadata": {},
   "source": [
    "## Funções de Pré-Processamento"
   ]
  },
  {
   "cell_type": "markdown",
   "metadata": {},
   "source": [
    "* Separa entre Treino e Teste"
   ]
  },
  {
   "cell_type": "code",
   "execution_count": 8,
   "metadata": {},
   "outputs": [],
   "source": [
    "def separa_treino_teste(target, dados, size):\n",
    "    x = dados.drop(target, axis = 1)\n",
    "    y = dados[target]\n",
    "    x_train, x_test, y_train, y_test = train_test_split(x, y, test_size= size, random_state = 42)\n",
    "\n",
    "    df_train = pd.concat([x_train, y_train], axis = 1)\n",
    "    df_test = pd.concat([x_test, y_test], axis = 1)\n",
    "\n",
    "    return df_train, df_test"
   ]
  },
  {
   "cell_type": "code",
   "execution_count": null,
   "metadata": {},
   "outputs": [],
   "source": []
  },
  {
   "attachments": {},
   "cell_type": "markdown",
   "metadata": {},
   "source": [
    "# <font color='red' style='font-size: 40px;'> 1) Entendimento da Base de Dados </font>\n",
    "<hr style='border: 2px solid red;'>"
   ]
  },
  {
   "attachments": {},
   "cell_type": "markdown",
   "metadata": {},
   "source": [
    "## 1.1) Definição dos Campos\n",
    "\n",
    "> 1. endereco: Endereço que a residência encontra-se.\n",
    "\n",
    "> 2. bairro: Bairro que a residência encontra-se.\n",
    "\n",
    "> 3. zona_urbana: Zona Urbana que a residência se encontra.\n",
    "\n",
    "> 4. qt_casas_bairro: Quantidade de residências presentes no Bairro.\n",
    "\n",
    "> 5. tipo_de_imovel: Definição do tipo de residência.\n",
    "\n",
    "> 6. numero_de_quartos: Quantidade de quartos.\n",
    "\n",
    "> 7. numero_de_banheiros: Quantidade de banheiros.\n",
    "\n",
    "> 8. numero_de_vagas: Quantidade de vagas para veículos.\n",
    "\n",
    "> 9. area_do_terreno: Área do terreno.\n",
    "\n",
    "> 10. tamanho_da_construcao: Tamanho da construção.\n",
    "\n",
    "> 11. distancia_centro_urbano: Distância ate o Centro Urbano.\n",
    "\n",
    "> 12. ano_de_construcao: Ano que a residência foi construída.\n",
    "\n",
    "> 13. data_de_venda: Ano que a residência foi vendida.\n",
    "\n",
    "> 14. preco: Preço de venda"
   ]
  },
  {
   "cell_type": "code",
   "execution_count": 9,
   "metadata": {},
   "outputs": [
    {
     "name": "stdout",
     "output_type": "stream",
     "text": [
      "(34857, 14)\n",
      "Index(['endereco', 'bairro', 'zona_urbana', 'qt_casas_bairro',\n",
      "       'tipo_de_imovel', 'numero_de_quartos', 'numero_de_banheiros',\n",
      "       'numero_de_vagas', 'area_do_terreno', 'tamanho_da_construcao',\n",
      "       'distancia_centro_urbano', 'ano_de_construcao', 'data_de_venda',\n",
      "       'preco'],\n",
      "      dtype='object')\n"
     ]
    },
    {
     "data": {
      "text/html": [
       "<div>\n",
       "<style scoped>\n",
       "    .dataframe tbody tr th:only-of-type {\n",
       "        vertical-align: middle;\n",
       "    }\n",
       "\n",
       "    .dataframe tbody tr th {\n",
       "        vertical-align: top;\n",
       "    }\n",
       "\n",
       "    .dataframe thead th {\n",
       "        text-align: right;\n",
       "    }\n",
       "</style>\n",
       "<table border=\"1\" class=\"dataframe\">\n",
       "  <thead>\n",
       "    <tr style=\"text-align: right;\">\n",
       "      <th></th>\n",
       "      <th>endereco</th>\n",
       "      <th>bairro</th>\n",
       "      <th>zona_urbana</th>\n",
       "      <th>qt_casas_bairro</th>\n",
       "      <th>tipo_de_imovel</th>\n",
       "      <th>numero_de_quartos</th>\n",
       "      <th>numero_de_banheiros</th>\n",
       "      <th>numero_de_vagas</th>\n",
       "      <th>area_do_terreno</th>\n",
       "      <th>tamanho_da_construcao</th>\n",
       "      <th>distancia_centro_urbano</th>\n",
       "      <th>ano_de_construcao</th>\n",
       "      <th>data_de_venda</th>\n",
       "      <th>preco</th>\n",
       "    </tr>\n",
       "  </thead>\n",
       "  <tbody>\n",
       "    <tr>\n",
       "      <th>0</th>\n",
       "      <td>68 Studley St</td>\n",
       "      <td>Abbotsford</td>\n",
       "      <td>Northern Metropolitan</td>\n",
       "      <td>4019.00</td>\n",
       "      <td>casa</td>\n",
       "      <td>2</td>\n",
       "      <td>1.00</td>\n",
       "      <td>1.00</td>\n",
       "      <td>126.00</td>\n",
       "      <td>NaN</td>\n",
       "      <td>2.50</td>\n",
       "      <td>NaN</td>\n",
       "      <td>2016-09-03</td>\n",
       "      <td>NaN</td>\n",
       "    </tr>\n",
       "    <tr>\n",
       "      <th>1</th>\n",
       "      <td>85 Turner St</td>\n",
       "      <td>Abbotsford</td>\n",
       "      <td>Northern Metropolitan</td>\n",
       "      <td>4019.00</td>\n",
       "      <td>casa</td>\n",
       "      <td>2</td>\n",
       "      <td>1.00</td>\n",
       "      <td>1.00</td>\n",
       "      <td>202.00</td>\n",
       "      <td>NaN</td>\n",
       "      <td>2.50</td>\n",
       "      <td>NaN</td>\n",
       "      <td>2016-12-03</td>\n",
       "      <td>1480000.00</td>\n",
       "    </tr>\n",
       "    <tr>\n",
       "      <th>2</th>\n",
       "      <td>25 Bloomburg St</td>\n",
       "      <td>Abbotsford</td>\n",
       "      <td>Northern Metropolitan</td>\n",
       "      <td>4019.00</td>\n",
       "      <td>casa</td>\n",
       "      <td>2</td>\n",
       "      <td>1.00</td>\n",
       "      <td>0.00</td>\n",
       "      <td>156.00</td>\n",
       "      <td>79.00</td>\n",
       "      <td>2.50</td>\n",
       "      <td>1900.00</td>\n",
       "      <td>2016-02-04</td>\n",
       "      <td>1035000.00</td>\n",
       "    </tr>\n",
       "    <tr>\n",
       "      <th>3</th>\n",
       "      <td>18/659 Victoria St</td>\n",
       "      <td>Abbotsford</td>\n",
       "      <td>Northern Metropolitan</td>\n",
       "      <td>4019.00</td>\n",
       "      <td>apartamento</td>\n",
       "      <td>3</td>\n",
       "      <td>2.00</td>\n",
       "      <td>1.00</td>\n",
       "      <td>0.00</td>\n",
       "      <td>NaN</td>\n",
       "      <td>2.50</td>\n",
       "      <td>NaN</td>\n",
       "      <td>2016-02-04</td>\n",
       "      <td>NaN</td>\n",
       "    </tr>\n",
       "    <tr>\n",
       "      <th>4</th>\n",
       "      <td>5 Charles St</td>\n",
       "      <td>Abbotsford</td>\n",
       "      <td>Northern Metropolitan</td>\n",
       "      <td>4019.00</td>\n",
       "      <td>casa</td>\n",
       "      <td>3</td>\n",
       "      <td>2.00</td>\n",
       "      <td>0.00</td>\n",
       "      <td>134.00</td>\n",
       "      <td>150.00</td>\n",
       "      <td>2.50</td>\n",
       "      <td>1900.00</td>\n",
       "      <td>2017-03-04</td>\n",
       "      <td>1465000.00</td>\n",
       "    </tr>\n",
       "  </tbody>\n",
       "</table>\n",
       "</div>"
      ],
      "text/plain": [
       "             endereco      bairro            zona_urbana  qt_casas_bairro  \\\n",
       "0       68 Studley St  Abbotsford  Northern Metropolitan          4019.00   \n",
       "1        85 Turner St  Abbotsford  Northern Metropolitan          4019.00   \n",
       "2     25 Bloomburg St  Abbotsford  Northern Metropolitan          4019.00   \n",
       "3  18/659 Victoria St  Abbotsford  Northern Metropolitan          4019.00   \n",
       "4        5 Charles St  Abbotsford  Northern Metropolitan          4019.00   \n",
       "\n",
       "  tipo_de_imovel  numero_de_quartos  numero_de_banheiros  numero_de_vagas  \\\n",
       "0           casa                  2                 1.00             1.00   \n",
       "1           casa                  2                 1.00             1.00   \n",
       "2           casa                  2                 1.00             0.00   \n",
       "3    apartamento                  3                 2.00             1.00   \n",
       "4           casa                  3                 2.00             0.00   \n",
       "\n",
       "   area_do_terreno  tamanho_da_construcao  distancia_centro_urbano  \\\n",
       "0           126.00                    NaN                     2.50   \n",
       "1           202.00                    NaN                     2.50   \n",
       "2           156.00                  79.00                     2.50   \n",
       "3             0.00                    NaN                     2.50   \n",
       "4           134.00                 150.00                     2.50   \n",
       "\n",
       "   ano_de_construcao data_de_venda      preco  \n",
       "0                NaN    2016-09-03        NaN  \n",
       "1                NaN    2016-12-03 1480000.00  \n",
       "2            1900.00    2016-02-04 1035000.00  \n",
       "3                NaN    2016-02-04        NaN  \n",
       "4            1900.00    2017-03-04 1465000.00  "
      ]
     },
     "execution_count": 9,
     "metadata": {},
     "output_type": "execute_result"
    }
   ],
   "source": [
    "df_raw = pd.read_csv('./data/MELBOURNE_HOUSE_PRICES.csv')\n",
    "df_raw.drop('numero_de_quartos.1', axis = 1, inplace = True)\n",
    "print(df_raw.shape)\n",
    "print(df_raw.columns)\n",
    "df_raw.head()"
   ]
  },
  {
   "cell_type": "markdown",
   "metadata": {},
   "source": [
    "## 1.2) Tipo das Variáveis"
   ]
  },
  {
   "cell_type": "code",
   "execution_count": 10,
   "metadata": {},
   "outputs": [
    {
     "name": "stdout",
     "output_type": "stream",
     "text": [
      "Colunas Categóricas: ['endereco', 'bairro', 'zona_urbana', 'tipo_de_imovel', 'data_de_venda']\n",
      "\n",
      "Colunas Quantitativas: ['qt_casas_bairro', 'numero_de_quartos', 'numero_de_banheiros', 'numero_de_vagas', 'area_do_terreno', 'tamanho_da_construcao', 'distancia_centro_urbano', 'ano_de_construcao', 'preco']\n"
     ]
    }
   ],
   "source": [
    "categoricas = [column for column in df_raw.columns if df_raw[column].dtype.name == 'object']\n",
    "numericas = [column for column in df_raw.columns if (df_raw[column].dtype.name == 'int64') or (df_raw[column].dtype.name == 'float64')]\n",
    "\n",
    "print(f'Colunas Categóricas: {categoricas}')\n",
    "print()\n",
    "print(f'Colunas Quantitativas: {numericas}')"
   ]
  },
  {
   "cell_type": "markdown",
   "metadata": {},
   "source": [
    "## 1.3) Conferindo os Dados"
   ]
  },
  {
   "cell_type": "code",
   "execution_count": 11,
   "metadata": {},
   "outputs": [
    {
     "data": {
      "text/plain": [
       "endereco                       0\n",
       "bairro                         0\n",
       "zona_urbana                    3\n",
       "qt_casas_bairro                3\n",
       "tipo_de_imovel                 0\n",
       "numero_de_quartos              0\n",
       "numero_de_banheiros         8226\n",
       "numero_de_vagas             8728\n",
       "area_do_terreno            11810\n",
       "tamanho_da_construcao      21115\n",
       "distancia_centro_urbano        1\n",
       "ano_de_construcao          19306\n",
       "data_de_venda                  0\n",
       "preco                       7610\n",
       "dtype: int64"
      ]
     },
     "execution_count": 11,
     "metadata": {},
     "output_type": "execute_result"
    }
   ],
   "source": [
    "df_raw.isnull().sum()"
   ]
  },
  {
   "attachments": {},
   "cell_type": "markdown",
   "metadata": {},
   "source": [
    "## 1.4) Criando novo DataFrame\n",
    "\n",
    "> 1. Para evitar Data Lekage (vazamento de dados nas demais etapas), realizou-se a separação entre Desenvolvimento e Produção a fim de simular uma situação da vida real.\n",
    "\n",
    "> 2. O Dsenvolvimento será separado em treino e teste, para simular o Treinamento completo de um Modelo.\n",
    "\n",
    "> 3. O Produção será uma simulação de dados completamente novos."
   ]
  },
  {
   "cell_type": "code",
   "execution_count": 12,
   "metadata": {},
   "outputs": [
    {
     "name": "stdout",
     "output_type": "stream",
     "text": [
      "Dataset Original: (34857, 14)\n",
      "Dataset Treino: (29628, 14)\n",
      "Dataset Validação Treino: (23702, 14)\n",
      "Dataset Validação Teste: (5926, 14)\n",
      "Dataset Teste: (5229, 14)\n"
     ]
    }
   ],
   "source": [
    "# Dados de Treinamento verdadeiros\n",
    "df_train = separa_treino_teste('preco', df_raw, 0.15)[0]\n",
    "\n",
    "# Dados de Treinamento e Teste Sintéticos\n",
    "df_validacao_train = separa_treino_teste('preco', df_train, 0.20)[0]\n",
    "df_validacao_test = separa_treino_teste('preco', df_train, 0.20)[1]\n",
    "\n",
    "# Dados de Teste Verdadeiros\n",
    "df_test = separa_treino_teste('preco', df_raw, 0.15)[1]\n",
    "\n",
    "print(f'Dataset Original: {df_raw.shape}')\n",
    "print(f'Dataset Treino: {df_train.shape}')\n",
    "print(f'Dataset Validação Treino: {df_validacao_train.shape}')\n",
    "print(f'Dataset Validação Teste: {df_validacao_test.shape}')\n",
    "print(f'Dataset Teste: {df_test.shape}')"
   ]
  },
  {
   "cell_type": "markdown",
   "metadata": {},
   "source": [
    "# <font color='red' style='font-size: 40px;'> 2.0 Análise Exploratória  - Foco em Análises Univariadas </font>\n",
    "<hr style='border: 2px solid red;'>"
   ]
  },
  {
   "cell_type": "code",
   "execution_count": null,
   "metadata": {},
   "outputs": [],
   "source": []
  },
  {
   "cell_type": "markdown",
   "metadata": {},
   "source": [
    "# <font color='red' style='font-size: 40px;'> 3.0 Análise Exploratória - Foco em Análises Bivariadas </font>\n",
    "<hr style='border: 2px solid red;'>"
   ]
  },
  {
   "cell_type": "code",
   "execution_count": null,
   "metadata": {},
   "outputs": [],
   "source": []
  },
  {
   "cell_type": "markdown",
   "metadata": {},
   "source": [
    "# <font color='red' style='font-size: 40px;'> 4.0 Pré-Processamento </font>\n",
    "<hr style='border: 2px solid red;'>"
   ]
  },
  {
   "cell_type": "code",
   "execution_count": null,
   "metadata": {},
   "outputs": [],
   "source": []
  },
  {
   "cell_type": "markdown",
   "metadata": {},
   "source": [
    "# <font color='red' style='font-size: 40px;'> 5.0 Aplicação de Modelos de Machine Learning </font>\n",
    "<hr style='border: 2px solid red;'>"
   ]
  },
  {
   "cell_type": "code",
   "execution_count": null,
   "metadata": {},
   "outputs": [],
   "source": []
  },
  {
   "cell_type": "markdown",
   "metadata": {},
   "source": [
    "# <font color='red' style='font-size: 40px;'> 6.0 Simulando Ambiente em Produção -> Aplicando Modelo no Dataset de Teste </font>\n",
    "<hr style='border: 2px solid red;'>"
   ]
  },
  {
   "cell_type": "code",
   "execution_count": null,
   "metadata": {},
   "outputs": [],
   "source": []
  },
  {
   "attachments": {},
   "cell_type": "markdown",
   "metadata": {},
   "source": [
    "# <font color='red' style='font-size: 40px;'> 7.0 Consolidação dos Resultados </font>\n",
    "<hr style='border: 2px solid red;'>"
   ]
  },
  {
   "cell_type": "code",
   "execution_count": null,
   "metadata": {},
   "outputs": [],
   "source": []
  },
  {
   "cell_type": "code",
   "execution_count": null,
   "metadata": {},
   "outputs": [],
   "source": []
  }
 ],
 "metadata": {
  "kernelspec": {
   "display_name": "base",
   "language": "python",
   "name": "python3"
  },
  "language_info": {
   "codemirror_mode": {
    "name": "ipython",
    "version": 3
   },
   "file_extension": ".py",
   "mimetype": "text/x-python",
   "name": "python",
   "nbconvert_exporter": "python",
   "pygments_lexer": "ipython3",
   "version": "3.9.12"
  },
  "orig_nbformat": 4,
  "vscode": {
   "interpreter": {
    "hash": "5a9a036f549c34521959f2e35c11282d59c2fa6997060d671aa6f29f1c44b680"
   }
  }
 },
 "nbformat": 4,
 "nbformat_minor": 2
}
